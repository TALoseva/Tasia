{
  "nbformat": 4,
  "nbformat_minor": 0,
  "metadata": {
    "colab": {
      "provenance": [],
      "authorship_tag": "ABX9TyOtz8P6+WZd/6nklL7Y8mQ+",
      "include_colab_link": true
    },
    "kernelspec": {
      "name": "python3",
      "display_name": "Python 3"
    },
    "language_info": {
      "name": "python"
    }
  },
  "cells": [
    {
      "cell_type": "markdown",
      "metadata": {
        "id": "view-in-github",
        "colab_type": "text"
      },
      "source": [
        "<a href=\"https://colab.research.google.com/github/TALoseva/Tasia/blob/main/Untitled0.ipynb\" target=\"_parent\"><img src=\"https://colab.research.google.com/assets/colab-badge.svg\" alt=\"Open In Colab\"/></a>"
      ]
    },
    {
      "cell_type": "code",
      "source": [
        "9.\tОдномерные массивы: группа Array (вариант 17)"
      ],
      "metadata": {
        "id": "kajcqAcBVHEe"
      },
      "execution_count": null,
      "outputs": []
    },
    {
      "cell_type": "markdown",
      "source": [
        "10.\tДвумерные массивы (матрицы): группа Matrix (вариант 17)"
      ],
      "metadata": {
        "id": "AjZnLymDXrKJ"
      }
    },
    {
      "cell_type": "markdown",
      "source": [
        "1.\tДан одномерный массив В, состоящий из 2n элементов. Переставить его элементы по следующему правилу: b[1], b[n+1], b[2], b[n+2],..., b[n], b[2n]."
      ],
      "metadata": {
        "id": "Ru9eRAq6ZFd-"
      }
    },
    {
      "cell_type": "code",
      "source": [
        "def rearrange_array(B):\n",
        "    n = len(B) // 2\n",
        "    result = []\n",
        "    for i in range(n):\n",
        "        result.append(B[i])\n",
        "        result.append(B[n + i])\n",
        "    return result\n",
        "\n",
        "B = [1, 2, 3, 4, 5, 6, 7, 8]\n",
        "print(\"Исходный массив:\", B)\n",
        "rearranged = rearrange_array(B)\n",
        "print(\"Преобразованный массив:\", rearranged)"
      ],
      "metadata": {
        "id": "ywCKULGLZT19"
      },
      "execution_count": null,
      "outputs": []
    },
    {
      "cell_type": "markdown",
      "source": [
        "2.\tДан массив A размера N. Вывести его элементы в следующем порядке:\n",
        "A1,    A2,    AN,    AN–1,    A3,    A4,    AN–2,    AN–3,    … .\n"
      ],
      "metadata": {
        "id": "5iOjn6x3gp64"
      }
    },
    {
      "cell_type": "code",
      "source": [
        "def print_special_order(A):\n",
        "    N = len(A)\n",
        "    left = 0\n",
        "    right = N - 1\n",
        "    result = []\n",
        "\n",
        "    while left <= right:\n",
        "        if left + 1 <= right:\n",
        "            result.append(A[left])     # A1\n",
        "            result.append(A[left + 1]) # A2\n",
        "        if right - 1 >= left:\n",
        "            result.append(A[right])    # AN\n",
        "            if right - 1 > left:\n",
        "                result.append(A[right - 1]) # AN-1\n",
        "        left += 2\n",
        "        right -= 2\n",
        "\n",
        "    print(\"Элементы в заданном порядке:\", result)\n",
        "    return result\n",
        "\n",
        "\n",
        "A = [1, 2, 3, 4, 5, 6, 7, 8]\n",
        "print(\"Исходный массив:\", A)\n",
        "print_special_order(A)"
      ],
      "metadata": {
        "id": "zxwnowXDg2SM"
      },
      "execution_count": null,
      "outputs": []
    },
    {
      "cell_type": "markdown",
      "source": [
        "3.\tДан массив размера N, все элементы которого, кроме одного, упорядочены по убыванию. Сделать массив упорядоченным, переместив элемент, нарушающий упорядоченность, на новую позицию."
      ],
      "metadata": {
        "id": "q9PLC2euhMsQ"
      }
    },
    {
      "cell_type": "code",
      "source": [
        "def fix_sorted_array(arr):\n",
        "    n = len(arr)\n",
        "    if n <= 1:\n",
        "        return arr\n",
        "\n",
        "    # Шаг 1: Находим индекс элемента, нарушающего убывание\n",
        "    wrong_index = -1\n",
        "    for i in range(1, n):\n",
        "        if arr[i] > arr[i - 1]:\n",
        "            wrong_index = i\n",
        "            break\n",
        "\n",
        "    if wrong_index == -1:\n",
        "        return arr\n",
        "\n",
        "    # Шаг 2: Находим правильную позицию для нарушителя\n",
        "    wrong_value = arr[wrong_index]\n",
        "    correct_pos = 0\n",
        "\n",
        "    if wrong_index == n - 1:\n",
        "        for i in range(wrong_index - 1, -1, -1):\n",
        "            if arr[i] >= wrong_value:\n",
        "                correct_pos = i + 1\n",
        "                break\n",
        "    else:\n",
        "        for i in range(n):\n",
        "            if (i == 0 and wrong_value <= arr[i]) or \\\n",
        "               (i == n - 1 and wrong_value >= arr[i]) or \\\n",
        "               (arr[i] >= wrong_value >= arr[i + 1]):\n",
        "                correct_pos = i + (1 if wrong_value < arr[i] else 0)\n",
        "                break\n",
        "\n",
        "    # Шаг 3: Перемещаем элемент на правильную позицию\n",
        "    fixed_arr = arr[:wrong_index] + arr[wrong_index + 1:]\n",
        "    fixed_arr.insert(correct_pos, wrong_value)\n",
        "\n",
        "    return fixed_arr\n",
        "\n",
        "arr1 = [10, 8, 5, 6, 4, 3]\n",
        "print(fix_sorted_array(arr1))\n"
      ],
      "metadata": {
        "id": "e4tyjOoWhSes"
      },
      "execution_count": null,
      "outputs": []
    },
    {
      "cell_type": "markdown",
      "source": [
        "4.\tДан целочисленный двумерный массив, размерности n х m. Заменить все элементы на их противоположные значения."
      ],
      "metadata": {
        "id": "2NWd5NlQiM71"
      }
    },
    {
      "cell_type": "code",
      "source": [
        "def invert_matrix(matrix):\n",
        "    inverted = [[-element for element in row] for row in matrix]\n",
        "    return inverted\n",
        "\n",
        "# Пример использования\n",
        "matrix = [\n",
        "    [1, -2, 3],\n",
        "    [4, 5, -6],\n",
        "    [-7, 8, 9]\n",
        "]\n",
        "\n",
        "print(\"Исходная матрица:\")\n",
        "for row in matrix:\n",
        "    print(row)\n",
        "\n",
        "inverted_matrix = invert_matrix(matrix)\n",
        "\n",
        "print(\"\\nМатрица с противоположными значениями:\")\n",
        "for row in inverted_matrix:\n",
        "    print(row)"
      ],
      "metadata": {
        "id": "hj8rs1JKiYZJ"
      },
      "execution_count": null,
      "outputs": []
    },
    {
      "cell_type": "markdown",
      "source": [],
      "metadata": {
        "id": "t-ef28O_UbJa"
      }
    }
  ]
}