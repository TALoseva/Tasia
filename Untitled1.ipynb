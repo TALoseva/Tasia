{
  "nbformat": 4,
  "nbformat_minor": 0,
  "metadata": {
    "colab": {
      "provenance": [],
      "authorship_tag": "ABX9TyPZyaKxrs3/NT5JOMKOEaUo",
      "include_colab_link": true
    },
    "kernelspec": {
      "name": "python3",
      "display_name": "Python 3"
    },
    "language_info": {
      "name": "python"
    }
  },
  "cells": [
    {
      "cell_type": "markdown",
      "metadata": {
        "id": "view-in-github",
        "colab_type": "text"
      },
      "source": [
        "<a href=\"https://colab.research.google.com/github/TALoseva/Tasia/blob/main/Untitled1.ipynb\" target=\"_parent\"><img src=\"https://colab.research.google.com/assets/colab-badge.svg\" alt=\"Open In Colab\"/></a>"
      ]
    },
    {
      "cell_type": "markdown",
      "source": [
        "Dictionary"
      ],
      "metadata": {
        "id": "WN82KXJqvwGK"
      }
    },
    {
      "cell_type": "markdown",
      "source": [
        "1. (зад 1) Подсчет частоты слов: Напишите функцию, которая принимает строку и возвращает словарь, где ключи — это слова, а значения — их частота в строке."
      ],
      "metadata": {
        "id": "n1t5uOVkvyP4"
      }
    },
    {
      "cell_type": "code",
      "source": [
        "def word_frequency(text):\n",
        "    words = text.split()\n",
        "\n",
        "    frequency = {}\n",
        "\n",
        "    for word in words:\n",
        "        word = word.lower()\n",
        "        if word in frequency:\n",
        "            frequency[word] += 1\n",
        "        else:\n",
        "            frequency[word] = 1\n",
        "\n",
        "    return frequency\n",
        "\n",
        "text = \"Hello world hello Python world\"\n",
        "print(word_frequency(text))"
      ],
      "metadata": {
        "id": "dXFuEJyQv1fE"
      },
      "execution_count": null,
      "outputs": []
    },
    {
      "cell_type": "markdown",
      "source": [
        "2. (зад 5) Максимальное значение: Напишите функцию, которая находит ключ с максимальным значением в словаре."
      ],
      "metadata": {
        "id": "HLH_nYjUwwJR"
      }
    },
    {
      "cell_type": "code",
      "source": [
        "def key_with_max_value(dictionary):\n",
        "    if not dictionary:\n",
        "        return None\n",
        "\n",
        "    max_key = None\n",
        "    max_value = -100000\n",
        "\n",
        "    for key, value in dictionary.items():\n",
        "        if value > max_value:\n",
        "            max_value = value\n",
        "            max_key = key\n",
        "\n",
        "    return max_key\n",
        "\n",
        "my_dict = {'x': 100, 'y': 200, 'z': 50}\n",
        "print(key_with_max_value(my_dict))"
      ],
      "metadata": {
        "id": "NqvLUiFLw5kG"
      },
      "execution_count": null,
      "outputs": []
    },
    {
      "cell_type": "markdown",
      "source": [
        "3. (зад 8) Группировка по длине ключей: Напишите функцию, которая группирует ключи словаря по их длине и возвращает словарь, где ключи - это длины, а значения - списки ключей соответствующей длины."
      ],
      "metadata": {
        "id": "nF8Ne8Esx94A"
      }
    },
    {
      "cell_type": "code",
      "source": [
        "def group_keys_by_length(dictionary):\n",
        "    result = {}\n",
        "    for key in dictionary.keys():\n",
        "        length = len(key)\n",
        "        if length not in result:\n",
        "            result[length] = []\n",
        "        result[length].append(key)\n",
        "    return result\n",
        "\n",
        "my_dict = {\n",
        "    \"a\": 1,\n",
        "    \"bb\": 2,\n",
        "    \"ccc\": 3,\n",
        "    \"dd\": 4,\n",
        "    \"e\": 5\n",
        "}\n",
        "\n",
        "print(group_keys_by_length(my_dict))"
      ],
      "metadata": {
        "id": "1elyxzA0kfvL"
      },
      "execution_count": null,
      "outputs": []
    },
    {
      "cell_type": "markdown",
      "source": [
        "4. (зад 14) Вложенный словарь: Напишите функцию, которая создает вложенный словарь, где первый уровень ключей — это буквы алфавита, а второй уровень — числа от 1 до 10.\n",
        "\n"
      ],
      "metadata": {
        "id": "Uo96Z0v-7n2A"
      }
    },
    {
      "cell_type": "code",
      "source": [
        "def create_nested_dict():\n",
        "    nested_dict = {}\n",
        "    for letter in 'abcdefghijklmnopqrstuvwxyz':  # Перебираем буквы алфавита\n",
        "        nested_dict[letter] = {num: None for num in range(1, 11)}  # Создаем вложенный словарь с числами от 1 до 10\n",
        "    return nested_dict\n",
        "\n",
        "result = create_nested_dict()\n",
        "print(result)\n"
      ],
      "metadata": {
        "id": "-1vupkML7x0L"
      },
      "execution_count": null,
      "outputs": []
    },
    {
      "cell_type": "markdown",
      "source": [
        "5. (зад 17) Ключи с четными значениями: Напишите функцию, которая возвращает список ключей, связанных с четными значениями."
      ],
      "metadata": {
        "id": "MuJ3Oq0O8cRT"
      }
    },
    {
      "cell_type": "code",
      "source": [
        "def get_even_value_keys(input_dict):\n",
        "    even_keys = [key for key, value in input_dict.items() if isinstance(value, int) and value % 2 == 0]\n",
        "    return even_keys\n",
        "\n",
        "sample_dict = {\n",
        "    'a': 1,\n",
        "    'b': 2,\n",
        "    'c': 3,\n",
        "    'd': 4,\n",
        "    'e': 5,\n",
        "    'f': 6\n",
        "}\n",
        "\n",
        "result = get_even_value_keys(sample_dict)\n",
        "print(result)\n"
      ],
      "metadata": {
        "id": "FIwnf5aG8fZk"
      },
      "execution_count": null,
      "outputs": []
    },
    {
      "cell_type": "markdown",
      "source": [
        "6. (зад 20) Пересечение словарей: Напишите функцию, которая принимает два словаря и возвращает новый словарь, содержащий только те пары ключ-значение, которые присутствуют в обоих словарях.\n",
        "\n"
      ],
      "metadata": {
        "id": "hCCCHpyM9NUx"
      }
    },
    {
      "cell_type": "code",
      "source": [
        "def intersect_dicts(dict1, dict2):\n",
        "    intersection = {key: dict1[key] for key in dict1 if key in dict2 and dict1[key] == dict2[key]}\n",
        "    return intersection\n",
        "\n",
        "dict_a = {\n",
        "    'a': 1,\n",
        "    'b': 2,\n",
        "    'c': 3,\n",
        "}\n",
        "\n",
        "dict_b = {\n",
        "    'b': 2,\n",
        "    'c': 4,\n",
        "    'd': 5,\n",
        "}\n",
        "\n",
        "result = intersect_dicts(dict_a, dict_b)\n",
        "print(result)"
      ],
      "metadata": {
        "id": "cBVpQQbB9evE"
      },
      "execution_count": null,
      "outputs": []
    },
    {
      "cell_type": "markdown",
      "source": [
        "7. (зад 23) Преобразование значений: Напишите функцию, которая преобразует все значения в словаре в строки."
      ],
      "metadata": {
        "id": "4g7hH24X9oRC"
      }
    },
    {
      "cell_type": "code",
      "source": [
        "def convert_values_to_strings(input_dict):\n",
        "    return {key: str(value) for key, value in input_dict.items()}\n",
        "\n",
        "example_dict = {\n",
        "    'a': 1,\n",
        "    'b': 2.5,\n",
        "    'c': True,\n",
        "    'd': None,\n",
        "}\n",
        "\n",
        "result = convert_values_to_strings(example_dict)\n",
        "print(result)\n"
      ],
      "metadata": {
        "id": "K0fz2dwE9t1D"
      },
      "execution_count": null,
      "outputs": []
    },
    {
      "cell_type": "markdown",
      "source": [
        "8. (зад 26)Группировка по типам значений: Напишите функцию, которая группирует ключи словаря по типам их значений (например, int, str, list)"
      ],
      "metadata": {
        "id": "IWHjlVyy99Ky"
      }
    },
    {
      "cell_type": "code",
      "source": [
        "def group_keys_by_value_type(input_dict):\n",
        "    grouped = {}\n",
        "    for key, value in input_dict.items():\n",
        "        value_type = type(value)\n",
        "        if value_type not in grouped:\n",
        "            grouped[value_type] = []\n",
        "        grouped[value_type].append(key)\n",
        "    return grouped\n",
        "\n",
        "example_dict = {\n",
        "    'a': 1,\n",
        "    'b': 'hello',\n",
        "    'c': [1, 2, 3],\n",
        "    'd': 2.5,\n",
        "    'e': True,\n",
        "    'f': None,\n",
        "    'g': 'world',\n",
        "}\n",
        "\n",
        "result = group_keys_by_value_type(example_dict)\n",
        "print(result)\n"
      ],
      "metadata": {
        "id": "dIky9B8r-EBZ"
      },
      "execution_count": null,
      "outputs": []
    },
    {
      "cell_type": "markdown",
      "source": [
        "9. (зад 28) Частота значений: Напишите функцию, которая подсчитывает частоту каждого значения в словаре."
      ],
      "metadata": {
        "id": "RqRX7mUL-WfC"
      }
    },
    {
      "cell_type": "code",
      "source": [
        "def count_value_frequency(input_dict):\n",
        "    frequency = {}\n",
        "\n",
        "    for value in input_dict.values():\n",
        "        if value in frequency:\n",
        "            frequency[value] += 1\n",
        "        else:\n",
        "            frequency[value] = 1\n",
        "\n",
        "    return frequency\n",
        "\n",
        "example_dict = {\n",
        "    'a': 1,\n",
        "    'b': 2,\n",
        "    'c': 1,\n",
        "    'd': 3,\n",
        "    'e': 2,\n",
        "    'f': 1,\n",
        "}\n",
        "\n",
        "result = count_value_frequency(example_dict)\n",
        "print(result)\n"
      ],
      "metadata": {
        "id": "dvGfTgWD-bwd"
      },
      "execution_count": null,
      "outputs": []
    },
    {
      "cell_type": "markdown",
      "source": [
        "10. (зпд 29) Ключи с палиндромами: Напишите функцию, которая возвращает список ключей, связанных со значениями-палиндромами."
      ],
      "metadata": {
        "id": "3cPakFpd-0DY"
      }
    },
    {
      "cell_type": "code",
      "source": [
        "def is_palindrome(s):\n",
        "    return s == s[::-1]\n",
        "\n",
        "def keys_with_palindrome_values(d):\n",
        "    return [key for key, value in d.items() if is_palindrome(value)]\n",
        "\n",
        "example_dict = {\n",
        "    'key1': 'level',\n",
        "    'key2': 'hello',\n",
        "    'key3': 'racecar',\n",
        "    'key4': 'world'\n",
        "}\n",
        "\n",
        "result = keys_with_palindrome_values(example_dict)\n",
        "print(result)\n"
      ],
      "metadata": {
        "id": "ZVLARbmT-4mF"
      },
      "execution_count": null,
      "outputs": []
    },
    {
      "cell_type": "markdown",
      "source": [
        "Множества"
      ],
      "metadata": {
        "id": "-7C89UXPACwB"
      }
    },
    {
      "cell_type": "markdown",
      "source": [
        "1. (зад 1) Создание множества из списка: Напишите функцию, которая принимает список и возвращает множество, содержащее уникальные элементы списка."
      ],
      "metadata": {
        "id": "FOptTuRhAGjO"
      }
    },
    {
      "cell_type": "code",
      "source": [
        "def unique_elements(input_list):\n",
        "    return set(input_list)\n",
        "\n",
        "example_list = [1, 2, 2, 3, 4, 4, 5]\n",
        "result = unique_elements(example_list)\n",
        "print(result)\n"
      ],
      "metadata": {
        "id": "MxNO8640ATUz"
      },
      "execution_count": null,
      "outputs": []
    },
    {
      "cell_type": "markdown",
      "source": [
        "2. (зад 3)Пересечение множеств: Напишите функцию, которая принимает два множества и возвращает их пересечение."
      ],
      "metadata": {
        "id": "jYuWf92EAcwW"
      }
    },
    {
      "cell_type": "code",
      "source": [
        "def intersection_of_sets(set1, set2):\n",
        "    return set1 & set2\n",
        "\n",
        "set_a = {1, 2, 3, 4, 5}\n",
        "set_b = {4, 5, 6, 7, 8}\n",
        "result = intersection_of_sets(set_a, set_b)\n",
        "print(result)\n"
      ],
      "metadata": {
        "id": "jGx_9XKuAiIC"
      },
      "execution_count": null,
      "outputs": []
    },
    {
      "cell_type": "markdown",
      "source": [
        "3. (зад 6)Симметрическая разность: Напишите функцию, которая принимает два множества и возвращает их симметрическую разность."
      ],
      "metadata": {
        "id": "gQS3IQ6TAtUa"
      }
    },
    {
      "cell_type": "code",
      "source": [
        "def symmetric_difference_of_sets(set1, set2):\n",
        "    result = set()\n",
        "\n",
        "    for item in set1:\n",
        "        if item not in set2:\n",
        "            result.add(item)\n",
        "\n",
        "    for item in set2:\n",
        "        if item not in set1:\n",
        "            result.add(item)\n",
        "\n",
        "    return result\n",
        "\n",
        "set_a = {1, 2, 3, 4, 5}\n",
        "set_b = {4, 5, 6, 7, 8}\n",
        "result = symmetric_difference_of_sets(set_a, set_b)\n",
        "print(result)"
      ],
      "metadata": {
        "colab": {
          "base_uri": "https://localhost:8080/"
        },
        "id": "WgNQEd9fA5c4",
        "outputId": "78b0b345-44ca-419b-ba93-fd23126f7cc9"
      },
      "execution_count": null,
      "outputs": [
        {
          "output_type": "stream",
          "name": "stdout",
          "text": [
            "{1, 2, 3, 6, 7, 8}\n"
          ]
        }
      ]
    },
    {
      "cell_type": "markdown",
      "source": [
        "4. (зад 11) Элементы, встречающиеся только в одном множестве: Напишите функцию, которая находит элементы, которые есть только в одном из двух множеств.\n",
        "\n",
        "\n"
      ],
      "metadata": {
        "id": "0S-LDSNQBLvT"
      }
    },
    {
      "cell_type": "code",
      "source": [
        "def unique_elements(set1, set2):\n",
        "    result = set()\n",
        "\n",
        "    for item in set1:\n",
        "        if item not in set2:\n",
        "            result.add(item)\n",
        "\n",
        "    for item in set2:\n",
        "        if item not in set1:\n",
        "            result.add(item)\n",
        "\n",
        "    return result\n",
        "\n",
        "set_a = {1, 2, 3, 4, 5}\n",
        "set_b = {4, 5, 6, 7, 8}\n",
        "result = unique_elements(set_a, set_b)\n",
        "print(result)"
      ],
      "metadata": {
        "id": "0lwFX902CLcu"
      },
      "execution_count": null,
      "outputs": []
    },
    {
      "cell_type": "markdown",
      "source": [
        "5. (зад 18) Сортировка множества: Напишите функцию, которая преобразует множество в отсортированный список.\n",
        "\n"
      ],
      "metadata": {
        "id": "Fk02Nqo9CyHe"
      }
    },
    {
      "cell_type": "code",
      "source": [
        "def sorted_set_to_list(input_set):\n",
        "    input_list = list(input_set)\n",
        "\n",
        "    for i in range(len(input_list)):\n",
        "        for j in range(0, len(input_list) - i - 1):\n",
        "            if input_list[j] > input_list[j + 1]:\n",
        "                input_list[j], input_list[j + 1] = input_list[j + 1], input_list[j]\n",
        "\n",
        "    return input_list\n",
        "\n",
        "my_set = {5, 2, 9, 1, 5, 6}\n",
        "sorted_list = sorted_set_to_list(my_set)\n"
      ],
      "metadata": {
        "id": "csUg2DlGmwbO"
      },
      "execution_count": null,
      "outputs": []
    },
    {
      "cell_type": "markdown",
      "source": [
        "6. (зад 22) Разбиение множества: Напишите функцию, которая разбивает множество на два: одно с четными числами, другое с нечетными."
      ],
      "metadata": {
        "id": "0Sdf_J_Xm8HW"
      }
    },
    {
      "cell_type": "code",
      "source": [
        "def split_set(input_set):\n",
        "    even_set = set()  # Множество для четных чисел\n",
        "    odd_set = set()   # Множество для нечетных чисел\n",
        "\n",
        "    for number in input_set:\n",
        "        if number % 2 == 0:\n",
        "            even_set.add(number)\n",
        "        else:\n",
        "            odd_set.add(number)\n",
        "\n",
        "    return even_set, odd_set\n",
        "\n",
        "my_set = {1, 2, 3, 4, 5, 6, 7, 8, 9}\n",
        "even_numbers, odd_numbers = split_set(my_set)\n",
        "\n",
        "print(\"Четные числа:\", even_numbers)\n",
        "print(\"Нечетные числа:\", odd_numbers)"
      ],
      "metadata": {
        "id": "QHlYD_MTnwCM"
      },
      "execution_count": null,
      "outputs": []
    },
    {
      "cell_type": "markdown",
      "source": [
        "7. (зад 27) Объединение с сохранением порядка: Напишите функцию, которая объединяет два множества и возвращает результат в виде отсортированного списка."
      ],
      "metadata": {
        "id": "_kkXbCvGoDRs"
      }
    },
    {
      "cell_type": "code",
      "source": [
        "def union_with_order(set1, set2):\n",
        "    combined = []  # Список для хранения объединенных элементов\n",
        "    seen = {}      # Словарь для отслеживания уникальных элементов\n",
        "\n",
        "    for item in set1:\n",
        "        if item not in seen:\n",
        "            combined.append(item)\n",
        "            seen[item] = True\n",
        "\n",
        "    for item in set2:\n",
        "        if item not in seen:\n",
        "            combined.append(item)\n",
        "            seen[item] = True\n",
        "\n",
        "    sorted_combined = []\n",
        "\n",
        "    while combined:\n",
        "        smallest = combined[0]\n",
        "        for item in combined:\n",
        "            if item < smallest:\n",
        "                smallest = item\n",
        "        sorted_combined.append(smallest)\n",
        "        combined.remove(smallest)\n",
        "\n",
        "    return sorted_combined\n",
        "\n",
        "set1 = {3, 1, 4}\n",
        "set2 = {4, 5, 2}\n",
        "\n",
        "result = union_with_order(set1, set2)\n",
        "print(\"Результат объединения:\", result)\n"
      ],
      "metadata": {
        "id": "1wGDKJNuoHHt"
      },
      "execution_count": null,
      "outputs": []
    },
    {
      "cell_type": "markdown",
      "source": [
        "8. (зад 28) Разделение на группы: Напишите функцию, которая разделяет множество строк на две группы: строки с четной длиной и строки с нечетной длиной.\n",
        "\n"
      ],
      "metadata": {
        "id": "aNzLYz0-ok1R"
      }
    },
    {
      "cell_type": "code",
      "source": [
        "def split_strings_by_length(strings):\n",
        "    even_length_group = []  # Список для строк с четной длиной\n",
        "    odd_length_group = []   # Список для строк с нечетной длиной\n",
        "\n",
        "    for string in strings:\n",
        "        length = 0  # Счетчик длины строки\n",
        "        for char in string:\n",
        "            length += 1\n",
        "\n",
        "        if length % 2 == 0:\n",
        "            even_length_group.append(string)\n",
        "        else:\n",
        "            odd_length_group.append(string)\n",
        "\n",
        "    return even_length_group, odd_length_group\n",
        "\n",
        "strings = {\"hello\", \"world\", \"python\", \"is\", \"fun\"}\n",
        "even_group, odd_group = split_strings_by_length(strings)\n",
        "\n",
        "print(\"Строки с четной длиной:\", even_group)\n",
        "print(\"Строки с нечетной длиной:\", odd_group)"
      ],
      "metadata": {
        "id": "unhrRM2No1q5"
      },
      "execution_count": null,
      "outputs": []
    },
    {
      "cell_type": "markdown",
      "source": [
        "9. (зад 30) Проверка на взаимоисключающие множества: Напишите функцию, которая проверяет, являются ли два множества взаимоисключающими (т.е. не имеют общих элементов)."
      ],
      "metadata": {
        "id": "JlWmAnhcpGI8"
      }
    },
    {
      "cell_type": "code",
      "source": [
        "def are_disjoint_sets(set1, set2):\n",
        "    list1 = list(set1)\n",
        "    list2 = list(set2)\n",
        "\n",
        "    for element1 in list1:\n",
        "        for element2 in list2:\n",
        "            if element1 == element2:\n",
        "                return False\n",
        "\n",
        "    return True\n",
        "\n",
        "set_a = {1, 2, 3}\n",
        "set_b = {4, 5, 6}\n",
        "set_c = {3, 7, 8}\n",
        "\n",
        "print(are_disjoint_sets(set_a, set_b))\n",
        "print(are_disjoint_sets(set_a, set_c))"
      ],
      "metadata": {
        "id": "rZ0ODUySpMJq"
      },
      "execution_count": null,
      "outputs": []
    },
    {
      "cell_type": "markdown",
      "source": [
        "10. (зад 29) Поиск уникальных символов: Напишите функцию, которая находит уникальные символы в строке с помощью множества."
      ],
      "metadata": {
        "id": "KZ7M6wY2pbfS"
      }
    },
    {
      "cell_type": "code",
      "source": [
        "def find_unique_characters(input_string):\n",
        "    unique_chars = []  # Список для хранения уникальных символов\n",
        "    seen_chars = []    # Список для хранения уже встреченных символов\n",
        "\n",
        "    for char in input_string:\n",
        "        if char not in seen_chars:\n",
        "            seen_chars.append(char)\n",
        "            unique_chars.append(char)\n",
        "\n",
        "    return ''.join(unique_chars)\n",
        "\n",
        "input_str = \"hello world\"\n",
        "unique_characters = find_unique_characters(input_str)\n",
        "print(unique_characters)\n"
      ],
      "metadata": {
        "id": "BKt73T5Opxdd"
      },
      "execution_count": null,
      "outputs": []
    },
    {
      "cell_type": "markdown",
      "source": [
        "Tuple"
      ],
      "metadata": {
        "id": "oxGJkoZ_p8ro"
      }
    },
    {
      "cell_type": "markdown",
      "source": [
        "1. (зад 1) Создание кортежа из списка: Напишите функцию, которая принимает список и возвращает кортеж, содержащий те же элементы."
      ],
      "metadata": {
        "id": "rsP_PRdGp_iI"
      }
    },
    {
      "cell_type": "code",
      "source": [
        "def list_to_tuple(input_list):\n",
        "    result_tuple = ()\n",
        "\n",
        "    for item in input_list:\n",
        "        result_tuple += (item,)\n",
        "\n",
        "    return result_tuple\n",
        "\n",
        "input_list = [1, 2, 3, 4, 5]\n",
        "result = list_to_tuple(input_list)\n",
        "print(result)\n"
      ],
      "metadata": {
        "id": "v8P2DEvrqma9"
      },
      "execution_count": null,
      "outputs": []
    },
    {
      "cell_type": "markdown",
      "source": [
        "2. (зад 4) Индекс первого вхождения: Напишите функцию, которая находит индекс первого вхождения заданного элемента в кортеже."
      ],
      "metadata": {
        "id": "iBacuhqCqs7L"
      }
    },
    {
      "cell_type": "code",
      "source": [
        "def find_first_occurrence(tup, element):\n",
        "    for index, value in enumerate(tup):\n",
        "        if value == element:\n",
        "            return index\n",
        "    return -1\n",
        "\n",
        "my_tuple = (10, 20, 30, 40, 20)\n",
        "element_to_find = 20\n",
        "result = find_first_occurrence(my_tuple, element_to_find)\n",
        "print(result)\n"
      ],
      "metadata": {
        "id": "wPmZN8HorlgF"
      },
      "execution_count": null,
      "outputs": []
    },
    {
      "cell_type": "markdown",
      "source": [
        "3. (зад 8) Сортировка кортежа: Напишите функцию, которая возвращает отсортированный список на основе элементов кортежа.\n",
        "\n"
      ],
      "metadata": {
        "id": "HX-QAdCjrsyz"
      }
    },
    {
      "cell_type": "code",
      "source": [
        "def sort_tuple(tup):\n",
        "    lst = list(tup)\n",
        "\n",
        "    n = len(lst)\n",
        "    for i in range(n):\n",
        "        for j in range(0, n-i-1):\n",
        "            if lst[j] > lst[j+1]:\n",
        "                lst[j], lst[j+1] = lst[j+1], lst[j]\n",
        "\n",
        "    return lst\n",
        "\n",
        "my_tuple = (5, 2, 9, 1, 5, 6)\n",
        "sorted_list = sort_tuple(my_tuple)\n",
        "print(sorted_list)\n"
      ],
      "metadata": {
        "id": "RjwaZTYyrz4j"
      },
      "execution_count": null,
      "outputs": []
    },
    {
      "cell_type": "markdown",
      "source": [
        "4. (зад 12) Конкатенация кортежей: Напишите функцию, которая принимает список кортежей и возвращает их конкатенацию в один кортеж."
      ],
      "metadata": {
        "id": "oRdJDG8asGC0"
      }
    },
    {
      "cell_type": "code",
      "source": [
        "def concatenate_tuples(tuples_list):\n",
        "    result = ()\n",
        "\n",
        "    for tup in tuples_list:\n",
        "        for item in tup:\n",
        "            result += (item,)\n",
        "\n",
        "    return result\n",
        "\n",
        "my_tuples = ((1, 2), (3, 4), (5,))\n",
        "concatenated_tuple = concatenate_tuples(my_tuples)\n",
        "print(concatenated_tuple)\n"
      ],
      "metadata": {
        "id": "V-bd4x73sjwF"
      },
      "execution_count": null,
      "outputs": []
    },
    {
      "cell_type": "markdown",
      "source": [
        "5. (зад 19) Кортеж из диапазона: Напишите функцию, которая создает кортеж из чисел в заданном диапазоне."
      ],
      "metadata": {
        "id": "Ik4jwea3uDU2"
      }
    },
    {
      "cell_type": "code",
      "source": [
        "def tuple_from_range(start, end):\n",
        "    result = ()\n",
        "\n",
        "    for num in range(start, end):\n",
        "        result += (num,)\n",
        "\n",
        "    return result\n",
        "\n",
        "start = 1\n",
        "end = 6\n",
        "result_tuple = tuple_from_range(start, end)\n",
        "print(result_tuple)\n"
      ],
      "metadata": {
        "id": "e2TkOivSuTQd"
      },
      "execution_count": null,
      "outputs": []
    },
    {
      "cell_type": "markdown",
      "source": [
        "6. (зад 21) Вложенные кортежи: Напишите функцию, которая создает вложенный кортеж, где первый уровень — это буквы алфавита, а второй уровень — числа от 1 до 5."
      ],
      "metadata": {
        "id": "GAcRPOedueVS"
      }
    },
    {
      "cell_type": "code",
      "source": [
        "def nested_tuples():\n",
        "    result = ()\n",
        "\n",
        "    letters = ['a', 'b', 'c', 'd', 'e']\n",
        "\n",
        "    for letter in letters:\n",
        "        inner_tuple = ()\n",
        "        number = 1\n",
        "\n",
        "        while number <= 5:\n",
        "            inner_tuple += (number,)\n",
        "            number += 1\n",
        "\n",
        "        result += (letter, inner_tuple)\n",
        "\n",
        "    return result\n",
        "\n",
        "nested_tuple_result = nested_tuples()\n",
        "print(nested_tuple_result)\n"
      ],
      "metadata": {
        "id": "fvFWOcD2usUg"
      },
      "execution_count": null,
      "outputs": []
    },
    {
      "cell_type": "markdown",
      "source": [
        "7. (зад 22) Развертывание вложенного кортежа: Напишите функцию, которая разворачивает вложенный кортеж в плоский кортеж."
      ],
      "metadata": {
        "id": "orG38Q5SvAjh"
      }
    },
    {
      "cell_type": "code",
      "source": [
        "def flatten_tuple(nested_tuple):\n",
        "    flat_tuple = ()\n",
        "\n",
        "    for item in nested_tuple:\n",
        "        if isinstance(item, tuple):\n",
        "            flat_tuple += flatten_tuple(item)\n",
        "        else:\n",
        "            flat_tuple += (item,)\n",
        "\n",
        "    return flat_tuple\n",
        "\n",
        "nested_tuple = (1, (2, 3), (4, (5, 6)), 7)\n",
        "flat_tuple_result = flatten_tuple(nested_tuple)\n",
        "print(flat_tuple_result)\n"
      ],
      "metadata": {
        "id": "UGp9Oz0fvVu6"
      },
      "execution_count": null,
      "outputs": []
    },
    {
      "cell_type": "markdown",
      "source": [],
      "metadata": {
        "id": "bItM6Y-Qvlh_"
      }
    },
    {
      "cell_type": "markdown",
      "source": [
        "8. (зад 25) Перевод строки в кортеж чисел: Напишите функцию, которая преобразует строку чисел, разделенных запятыми, в кортеж чисел.\n",
        "\n"
      ],
      "metadata": {
        "id": "3ouFYPuSvl4V"
      }
    },
    {
      "cell_type": "code",
      "source": [
        "def string_to_tuple_of_numbers(input_string):\n",
        "    numbers_tuple = ()\n",
        "    number = ''\n",
        "\n",
        "    for char in input_string:\n",
        "        if char.isdigit():\n",
        "            number += char\n",
        "        elif char == ',':\n",
        "            if number:\n",
        "                numbers_tuple += (int(number),)\n",
        "                number = ''\n",
        "    if number:\n",
        "        numbers_tuple += (int(number),)\n",
        "\n",
        "    return numbers_tuple\n",
        "\n",
        "input_string = \"1,2,3,4,5\"\n",
        "result = string_to_tuple_of_numbers(input_string)\n",
        "print(result)\n"
      ],
      "metadata": {
        "id": "r0j9o_yCv2hj"
      },
      "execution_count": null,
      "outputs": []
    },
    {
      "cell_type": "markdown",
      "source": [],
      "metadata": {
        "id": "RtqL5MMnwLaQ"
      }
    },
    {
      "cell_type": "markdown",
      "source": [
        "9. (зад 29) Кортеж с палиндромами: Напишите функцию, которая создает кортеж, содержащий только строки-палиндромы из заданного списка строк."
      ],
      "metadata": {
        "id": "3Cgyx0nFwLtg"
      }
    },
    {
      "cell_type": "code",
      "source": [
        "def is_palindrome(s):\n",
        "    cleaned_string = ''\n",
        "    for char in s:\n",
        "        if char != ' ':\n",
        "            cleaned_string += char.lower()\n",
        "\n",
        "    left = 0\n",
        "    right = len(cleaned_string) - 1\n",
        "    while left < right:\n",
        "        if cleaned_string[left] != cleaned_string[right]:\n",
        "            return False\n",
        "        left += 1\n",
        "        right -= 1\n",
        "\n",
        "    return True\n",
        "\n",
        "def palindromes_tuple(strings):\n",
        "    palindromes = ()\n",
        "\n",
        "    for string in strings:\n",
        "        if is_palindrome(string):\n",
        "            palindromes += (string,)\n",
        "\n",
        "    return palindromes\n",
        "\n",
        "input_strings = [\"level\", \"hello\", \"world\", \"radar\", \"python\", \"madam\"]\n",
        "result = palindromes_tuple(input_strings)\n",
        "print(result)\n"
      ],
      "metadata": {
        "id": "2kNWXGq6wYqU"
      },
      "execution_count": null,
      "outputs": []
    },
    {
      "cell_type": "markdown",
      "source": [
        "10. (зад 30) Группировка элементов: Напишите функцию, которая группирует элементы кортежа по их типам (например, int, str, float) и возвращает словарь, где ключи — это типы, а значения — списки элементов."
      ],
      "metadata": {
        "id": "mNRSlRFNwk8u"
      }
    },
    {
      "cell_type": "code",
      "source": [
        "def group_by_type(tup):\n",
        "    grouped = {}\n",
        "\n",
        "    for element in tup:\n",
        "        element_type = type(element)\n",
        "\n",
        "        if element_type not in grouped:\n",
        "            grouped[element_type] = []\n",
        "\n",
        "        grouped[element_type].append(element)\n",
        "\n",
        "    return grouped\n",
        "\n",
        "input_tuple = (1, \"hello\", 3.14, 2, \"world\", True, 5.0, False)\n",
        "result = group_by_type(input_tuple)\n",
        "print(result)\n"
      ],
      "metadata": {
        "id": "R15l1Agswqxu"
      },
      "execution_count": null,
      "outputs": []
    }
  ]
}